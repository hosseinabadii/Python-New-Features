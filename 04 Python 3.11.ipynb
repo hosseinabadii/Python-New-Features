{
 "cells": [
  {
   "cell_type": "markdown",
   "metadata": {},
   "source": [
    "# What’s New In Python 3.11¶"
   ]
  },
  {
   "cell_type": "markdown",
   "metadata": {},
   "source": [
    "---"
   ]
  },
  {
   "cell_type": "markdown",
   "metadata": {},
   "source": [
    "## New syntax features:\n",
    "- Exception Groups and except*"
   ]
  },
  {
   "cell_type": "code",
   "execution_count": 1,
   "metadata": {},
   "outputs": [
    {
     "ename": "SyntaxError",
     "evalue": "invalid syntax (2342527412.py, line 4)",
     "output_type": "error",
     "traceback": [
      "\u001b[0;36m  Cell \u001b[0;32mIn[1], line 4\u001b[0;36m\u001b[0m\n\u001b[0;31m    except* TypeError as e:\u001b[0m\n\u001b[0m          ^\u001b[0m\n\u001b[0;31mSyntaxError\u001b[0m\u001b[0;31m:\u001b[0m invalid syntax\n"
     ]
    }
   ],
   "source": [
    "try:\n",
    "    raise ExceptionGroup(\"eg\",\n",
    "        [ValueError(1), TypeError(2), OSError(3), OSError(4)])\n",
    "except* TypeError as e:\n",
    "    print(f'caught {type(e)} with nested {e.exceptions}')\n",
    "except* OSError as e:\n",
    "    print(f'caught {type(e)} with nested {e.exceptions}')"
   ]
  },
  {
   "cell_type": "markdown",
   "metadata": {},
   "source": [
    "---"
   ]
  },
  {
   "cell_type": "markdown",
   "metadata": {},
   "source": [
    "## New built-in features\n",
    "- Exceptions can be enriched with notes"
   ]
  },
  {
   "cell_type": "code",
   "execution_count": 2,
   "metadata": {},
   "outputs": [
    {
     "ename": "ValueError",
     "evalue": "678",
     "output_type": "error",
     "traceback": [
      "\u001b[0;31m---------------------------------------------------------------------------\u001b[0m",
      "\u001b[0;31mValueError\u001b[0m                                Traceback (most recent call last)",
      "\u001b[1;32m/home/khosro/Repositories/Python-New-Features/04 Python 3.11.ipynb Cell 7\u001b[0m line \u001b[0;36m8\n\u001b[1;32m      <a href='vscode-notebook-cell:/home/khosro/Repositories/Python-New-Features/04%20Python%203.11.ipynb#X26sZmlsZQ%3D%3D?line=2'>3</a>\u001b[0m err\u001b[39m.\u001b[39madd_note(\u001b[39m\"\u001b[39m\u001b[39mPython 3.11\u001b[39m\u001b[39m\"\u001b[39m)\n\u001b[1;32m      <a href='vscode-notebook-cell:/home/khosro/Repositories/Python-New-Features/04%20Python%203.11.ipynb#X26sZmlsZQ%3D%3D?line=4'>5</a>\u001b[0m err\u001b[39m.\u001b[39m__notes__\n\u001b[0;32m----> <a href='vscode-notebook-cell:/home/khosro/Repositories/Python-New-Features/04%20Python%203.11.ipynb#X26sZmlsZQ%3D%3D?line=7'>8</a>\u001b[0m \u001b[39mraise\u001b[39;00m err\n",
      "\u001b[0;31mValueError\u001b[0m: 678",
      "\u001b[0mEnriching Exceptions with Notes",
      "\u001b[0mPython 3.11"
     ]
    }
   ],
   "source": [
    "err = ValueError(678)\n",
    "err.add_note(\"Enriching Exceptions with Notes\")\n",
    "err.add_note(\"Python 3.11\")\n",
    "\n",
    "err.__notes__\n",
    "\n",
    "\n",
    "raise err"
   ]
  },
  {
   "cell_type": "markdown",
   "metadata": {},
   "source": [
    "---"
   ]
  },
  {
   "cell_type": "markdown",
   "metadata": {},
   "source": [
    "## New standard library modules\n",
    "- tomllib — Support for parsing TOML in the Standard Library"
   ]
  },
  {
   "cell_type": "markdown",
   "metadata": {},
   "source": [
    "---"
   ]
  },
  {
   "cell_type": "markdown",
   "metadata": {},
   "source": [
    "## Interpreter improvements:\n",
    "- Fine-grained error locations in tracebacks\n",
    "- New -P command line option and PYTHONSAFEPATH environment variable to disable automatically prepending potentially unsafe paths to sys.path"
   ]
  },
  {
   "cell_type": "code",
   "execution_count": 1,
   "metadata": {},
   "outputs": [
    {
     "ename": "ZeroDivisionError",
     "evalue": "division by zero",
     "output_type": "error",
     "traceback": [
      "\u001b[0;31m---------------------------------------------------------------------------\u001b[0m",
      "\u001b[0;31mZeroDivisionError\u001b[0m                         Traceback (most recent call last)",
      "\u001b[1;32m/home/khosro/Repositories/Python-New-Features/04 Python 3.11.ipynb Cell 11\u001b[0m line \u001b[0;36m5\n\u001b[1;32m      <a href='vscode-notebook-cell:/home/khosro/Repositories/Python-New-Features/04%20Python%203.11.ipynb#X13sZmlsZQ%3D%3D?line=1'>2</a>\u001b[0m \u001b[39mdef\u001b[39;00m \u001b[39minverse\u001b[39m(number):\n\u001b[1;32m      <a href='vscode-notebook-cell:/home/khosro/Repositories/Python-New-Features/04%20Python%203.11.ipynb#X13sZmlsZQ%3D%3D?line=2'>3</a>\u001b[0m     \u001b[39mreturn\u001b[39;00m \u001b[39m1\u001b[39m \u001b[39m/\u001b[39m number\n\u001b[0;32m----> <a href='vscode-notebook-cell:/home/khosro/Repositories/Python-New-Features/04%20Python%203.11.ipynb#X13sZmlsZQ%3D%3D?line=4'>5</a>\u001b[0m \u001b[39mprint\u001b[39m(inverse(\u001b[39m0\u001b[39;49m))\n",
      "\u001b[1;32m/home/khosro/Repositories/Python-New-Features/04 Python 3.11.ipynb Cell 11\u001b[0m line \u001b[0;36m3\n\u001b[1;32m      <a href='vscode-notebook-cell:/home/khosro/Repositories/Python-New-Features/04%20Python%203.11.ipynb#X13sZmlsZQ%3D%3D?line=1'>2</a>\u001b[0m \u001b[39mdef\u001b[39;00m \u001b[39minverse\u001b[39m(number):\n\u001b[0;32m----> <a href='vscode-notebook-cell:/home/khosro/Repositories/Python-New-Features/04%20Python%203.11.ipynb#X13sZmlsZQ%3D%3D?line=2'>3</a>\u001b[0m     \u001b[39mreturn\u001b[39;00m \u001b[39m1\u001b[39;49m \u001b[39m/\u001b[39;49m number\n",
      "\u001b[0;31mZeroDivisionError\u001b[0m: division by zero"
     ]
    }
   ],
   "source": [
    "# Old Version\n",
    "def inverse(number):\n",
    "    return 1 / number\n",
    "\n",
    "print(inverse(0))"
   ]
  },
  {
   "cell_type": "code",
   "execution_count": null,
   "metadata": {},
   "outputs": [],
   "source": [
    "# New Version\n",
    "def inverse(number):\n",
    "    return 1 / number\n",
    "\n",
    "print(inverse(0))\n",
    "\n",
    "# Traceback (most recent call last):\n",
    "#   File \"/home/khosro/Repositories/Python-New-Features/test.py\", line 5, in <module>\n",
    "#     print(inverse(0))\n",
    "#           ^^^^^^^^^^\n",
    "#   File \"/home/khosro/Repositories/Python-New-Features/test.py\", line 3, in inverse\n",
    "#     return 1 / number\n",
    "#            ~~^~~~~~~~\n",
    "# ZeroDivisionError: division by zero"
   ]
  },
  {
   "cell_type": "markdown",
   "metadata": {},
   "source": [
    "---"
   ]
  },
  {
   "cell_type": "markdown",
   "metadata": {},
   "source": [
    "## New typing features:\n",
    "- Variadic generics\n",
    "- Marking individual TypedDict items as required or not-required\n",
    "- Self type\n",
    "- Arbitrary literal string type\n",
    "- Data class transforms"
   ]
  },
  {
   "cell_type": "code",
   "execution_count": 2,
   "metadata": {},
   "outputs": [],
   "source": [
    "from typing import Sequence, TypeVar\n",
    "\n",
    "T = TypeVar(\"T\")\n",
    "\n",
    "def first(sequence: Sequence[T]) -> T:\n",
    "    return sequence[0]"
   ]
  },
  {
   "cell_type": "code",
   "execution_count": 1,
   "metadata": {},
   "outputs": [],
   "source": [
    "from dataclasses import dataclass\n",
    "from typing import Any, Self\n",
    "\n",
    "@dataclass\n",
    "class Person:\n",
    "    name: str\n",
    "    life_span: tuple[int, int]\n",
    "\n",
    "    @classmethod\n",
    "    def from_dict(cls, info: dict[str, Any]) -> Self:\n",
    "        return cls(\n",
    "            name=f\"{info['name']['first']} {info['name']['last']}\",\n",
    "            life_span=(info[\"birth\"][\"year\"], info[\"death\"][\"year\"]),\n",
    "        )"
   ]
  },
  {
   "cell_type": "markdown",
   "metadata": {},
   "source": [
    "---"
   ]
  },
  {
   "cell_type": "markdown",
   "metadata": {},
   "source": [
    "## Important deprecations, removals or restrictions:\n",
    "- Many legacy standard library modules have been deprecated and will be removed in Python 3.13\n",
    "- Py_UNICODE encoder APIs have been removed\n",
    "- Macros converted to static inline functions"
   ]
  },
  {
   "cell_type": "markdown",
   "metadata": {},
   "source": [
    "---"
   ]
  },
  {
   "cell_type": "markdown",
   "metadata": {},
   "source": [
    "## Other New Features\n",
    "- Windows py.exe launcher improvements¶\n",
    "- Nicer Syntax for Asynchronous Tasks"
   ]
  }
 ],
 "metadata": {
  "kernelspec": {
   "display_name": "py39",
   "language": "python",
   "name": "python3"
  },
  "language_info": {
   "codemirror_mode": {
    "name": "ipython",
    "version": 3
   },
   "file_extension": ".py",
   "mimetype": "text/x-python",
   "name": "python",
   "nbconvert_exporter": "python",
   "pygments_lexer": "ipython3",
   "version": "3.11.5"
  }
 },
 "nbformat": 4,
 "nbformat_minor": 2
}

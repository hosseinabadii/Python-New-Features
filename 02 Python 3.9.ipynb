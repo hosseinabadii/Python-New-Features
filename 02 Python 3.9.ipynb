{
 "cells": [
  {
   "cell_type": "markdown",
   "metadata": {},
   "source": [
    "# What’s New In Python 3.9¶"
   ]
  },
  {
   "cell_type": "markdown",
   "metadata": {},
   "source": [
    "---"
   ]
  },
  {
   "cell_type": "markdown",
   "metadata": {},
   "source": [
    "## New syntax features:\n",
    "- union operators added to dict\n",
    "- type hinting generics in standard collections\n",
    "- relaxed grammar restrictions on decorators"
   ]
  },
  {
   "cell_type": "code",
   "execution_count": 8,
   "metadata": {},
   "outputs": [
    {
     "name": "stdout",
     "output_type": "stream",
     "text": [
      "{'key1': 'value1 from x', 'key2': 'value2 from y', 'key3': 'value3 from y'}\n",
      "{'key1': 'value1 from x', 'key2': 'value2 from y', 'key3': 'value3 from y'}\n"
     ]
    }
   ],
   "source": [
    "x = {\"key1\": \"value1 from x\", \"key2\": \"value2 from x\"}\n",
    "y = {\"key2\": \"value2 from y\", \"key3\": \"value3 from y\"}\n",
    "\n",
    "# Old Version\n",
    "print({**x, **y})\n",
    "\n",
    "\n",
    "# New Version\n",
    "print(x | y)\n"
   ]
  },
  {
   "cell_type": "code",
   "execution_count": 3,
   "metadata": {},
   "outputs": [],
   "source": [
    "# Old Version\n",
    "from typing import List\n",
    "\n",
    "def greet_all(names: List[str]) -> None:\n",
    "    for name in names:\n",
    "        print(\"Hello\", name)\n",
    "\n",
    "\n",
    "# New Version\n",
    "def greet_all(names: list[str]) -> None:\n",
    "    for name in names:\n",
    "        print(\"Hello\", name)"
   ]
  },
  {
   "cell_type": "markdown",
   "metadata": {},
   "source": [
    "---"
   ]
  },
  {
   "cell_type": "markdown",
   "metadata": {},
   "source": [
    "## New built-in features\n",
    "- string methods to remove prefixes and suffixes."
   ]
  },
  {
   "cell_type": "code",
   "execution_count": 6,
   "metadata": {},
   "outputs": [
    {
     "name": "stdout",
     "output_type": "stream",
     "text": [
      "load\n",
      "main\n"
     ]
    }
   ],
   "source": [
    "string1 = \"pre_load\"\n",
    "print(string1.removeprefix(\"pre_\"))\n",
    "\n",
    "string2 = \"main.py\"\n",
    "print(string2.removesuffix(\".py\"))"
   ]
  },
  {
   "cell_type": "markdown",
   "metadata": {},
   "source": [
    "---"
   ]
  },
  {
   "cell_type": "markdown",
   "metadata": {},
   "source": [
    "## New features in the standard library:\n",
    "- flexible function and variable annotations\n",
    "- os.pidfd_open() added that allows process management without races and signals"
   ]
  },
  {
   "cell_type": "markdown",
   "metadata": {},
   "source": [
    "---"
   ]
  },
  {
   "cell_type": "markdown",
   "metadata": {},
   "source": [
    "## Interpreter improvements:\n",
    "- fast access to module state from methods of C extension types;\n",
    "- CPython now uses a new parser based on PEG;\n",
    "- a number of Python builtins (range, tuple, set, frozenset, list, dict) are now sped up using PEP 590 vectorcall;\n",
    "- garbage collection does not block on resurrected objects\n",
    "- a number of Python modules (_abc, audioop, _bz2, _codecs, _contextvars, _crypt, _functools, _json, _locale, math, operator, resource, time, _weakref) now use multiphase initialization as defined by PEP 489\n",
    "- a number of standard library modules (audioop, ast, grp, _hashlib, pwd, _posixsubprocess, random, select, struct, termios, zlib) are now using the stable ABI defined by PEP 384."
   ]
  },
  {
   "cell_type": "markdown",
   "metadata": {},
   "source": [
    "---"
   ]
  },
  {
   "cell_type": "markdown",
   "metadata": {},
   "source": [
    "## New library modules:\n",
    "\n",
    "- the IANA Time Zone Database is now present in the standard library in the zoneinfo module;\n",
    "- an implementation of a topological sort of a graph is now provided in the new graphlib module."
   ]
  },
  {
   "cell_type": "markdown",
   "metadata": {},
   "source": [
    "---"
   ]
  }
 ],
 "metadata": {
  "kernelspec": {
   "display_name": "py39",
   "language": "python",
   "name": "python3"
  },
  "language_info": {
   "codemirror_mode": {
    "name": "ipython",
    "version": 3
   },
   "file_extension": ".py",
   "mimetype": "text/x-python",
   "name": "python",
   "nbconvert_exporter": "python",
   "pygments_lexer": "ipython3",
   "version": "3.9.18"
  }
 },
 "nbformat": 4,
 "nbformat_minor": 2
}

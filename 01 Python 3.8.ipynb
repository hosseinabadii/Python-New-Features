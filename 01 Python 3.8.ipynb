{
 "cells": [
  {
   "cell_type": "markdown",
   "metadata": {},
   "source": [
    "# What’s New In Python 3.8"
   ]
  },
  {
   "cell_type": "markdown",
   "metadata": {},
   "source": [
    "---"
   ]
  },
  {
   "cell_type": "markdown",
   "metadata": {},
   "source": [
    "## 1. Assignment Expressions"
   ]
  },
  {
   "cell_type": "markdown",
   "metadata": {},
   "source": [
    "**PEP 572** introduced the \"walrus operator\" (`:=`) that allows you to assign values to variables as part of an expression. It's useful when you want to use the result of an expression while also assign it to a variable."
   ]
  },
  {
   "cell_type": "code",
   "execution_count": 1,
   "metadata": {},
   "outputs": [
    {
     "name": "stdout",
     "output_type": "stream",
     "text": [
      "Pytopia\n",
      "Pytopia\n"
     ]
    }
   ],
   "source": [
    "# Old Version\n",
    "x = \"Pytopia\"\n",
    "print(x)\n",
    "\n",
    "# New Version\n",
    "print(x := \"Pytopia\")\n"
   ]
  },
  {
   "cell_type": "code",
   "execution_count": 2,
   "metadata": {},
   "outputs": [
    {
     "name": "stdout",
     "output_type": "stream",
     "text": [
      "List is too long (20 elements, expected <= 10)\n",
      "List is too long (20 elements, expected <= 10)\n"
     ]
    }
   ],
   "source": [
    "a = list(range(20))\n",
    "\n",
    "# Old Version\n",
    "n = len(a)\n",
    "if n > 10:\n",
    "    print(f\"List is too long ({n} elements, expected <= 10)\")\n",
    "\n",
    "\n",
    "# New Version\n",
    "if (n := len(a)) > 10:\n",
    "    print(f\"List is too long ({n} elements, expected <= 10)\")\n"
   ]
  },
  {
   "cell_type": "markdown",
   "metadata": {},
   "source": [
    "---"
   ]
  },
  {
   "cell_type": "markdown",
   "metadata": {},
   "source": [
    "## 2. Positional-only parameters"
   ]
  },
  {
   "cell_type": "markdown",
   "metadata": {},
   "source": [
    "**PEP 570** added syntax (`/`) to define functions with positional-only parameters. This makes the parameters only be usable by position, not by keyword"
   ]
  },
  {
   "cell_type": "code",
   "execution_count": 3,
   "metadata": {},
   "outputs": [
    {
     "name": "stdout",
     "output_type": "stream",
     "text": [
      "50\n"
     ]
    }
   ],
   "source": [
    "def add(a, b, /):\n",
    "    return a + b\n",
    "\n",
    "print(add(20, 30))\n",
    "# print(add(a=20, a=30)) # Not allowed"
   ]
  },
  {
   "cell_type": "markdown",
   "metadata": {},
   "source": [
    "---"
   ]
  },
  {
   "cell_type": "markdown",
   "metadata": {},
   "source": [
    "## 3. The `=` operator inside f-strings"
   ]
  },
  {
   "cell_type": "markdown",
   "metadata": {},
   "source": [
    "It is a way to include both the expression and its value in the string."
   ]
  },
  {
   "cell_type": "code",
   "execution_count": 4,
   "metadata": {},
   "outputs": [
    {
     "name": "stdout",
     "output_type": "stream",
     "text": [
      "name=John and age= 20 with salary = 25,000\n"
     ]
    }
   ],
   "source": [
    "# Old Version\n",
    "name = \"John\"\n",
    "age = 20\n",
    "salary = 25000\n",
    "print(f\"name={name} and age= {age} with salary = {salary:,d}\")"
   ]
  },
  {
   "cell_type": "code",
   "execution_count": 5,
   "metadata": {},
   "outputs": [
    {
     "name": "stdout",
     "output_type": "stream",
     "text": [
      "name='John' and age= 20 with salary = 25,000\n"
     ]
    }
   ],
   "source": [
    "# New Version\n",
    "name = \"John\"\n",
    "age = 20\n",
    "salary = 25000\n",
    "print(f\"{name=} and {age= } with {salary = :,d}\")"
   ]
  },
  {
   "cell_type": "markdown",
   "metadata": {},
   "source": [
    "---"
   ]
  },
  {
   "cell_type": "markdown",
   "metadata": {},
   "source": [
    "## 4. New math functions"
   ]
  },
  {
   "cell_type": "markdown",
   "metadata": {},
   "source": [
    "The `math` module added the `math.prod()` function as a way to compute the product of a start value for an iterable."
   ]
  },
  {
   "cell_type": "code",
   "execution_count": 6,
   "metadata": {},
   "outputs": [
    {
     "name": "stdout",
     "output_type": "stream",
     "text": [
      "24\n"
     ]
    }
   ],
   "source": [
    "import math\n",
    "\n",
    "x = [1, 2, 3, 4]\n",
    "y = math.prod(x)\n",
    "print(y)"
   ]
  },
  {
   "cell_type": "markdown",
   "metadata": {},
   "source": [
    "---"
   ]
  },
  {
   "cell_type": "markdown",
   "metadata": {},
   "source": [
    "## 5. `functools` improvements"
   ]
  },
  {
   "cell_type": "markdown",
   "metadata": {},
   "source": [
    "`functools.cached_property` is used to transform a method of a class into a property whose value is computed once and then cached as a regular attribute for the life of an instance."
   ]
  },
  {
   "cell_type": "markdown",
   "metadata": {},
   "source": [
    "```python\n",
    "from functools import cached_property\n",
    "\n",
    "class DataSet:\n",
    "    @cached_property\n",
    "    def heavy_computation(self):\n",
    "        # expensive computation here\n",
    "        return result\n",
    "```"
   ]
  },
  {
   "cell_type": "markdown",
   "metadata": {},
   "source": [
    "---"
   ]
  },
  {
   "cell_type": "markdown",
   "metadata": {},
   "source": [
    "## 6. More Precise Types"
   ]
  },
  {
   "cell_type": "markdown",
   "metadata": {},
   "source": [
    "### 6.1 Literal Types\n",
    "Literal types are part of the `typing` module and allow you to indicate to type checkers that variables and function parameters should be constrained to one or more specific literal values."
   ]
  },
  {
   "cell_type": "code",
   "execution_count": 7,
   "metadata": {},
   "outputs": [
    {
     "name": "stdout",
     "output_type": "stream",
     "text": [
      "Please read this message soon.\n",
      "None\n"
     ]
    }
   ],
   "source": [
    "from typing import Literal\n",
    "\n",
    "def notify(importance: Literal['low', 'medium', 'high']) -> str:\n",
    "    if importance == 'low':\n",
    "        return \"This message can wait.\"\n",
    "    elif importance == 'medium':\n",
    "        return \"Please read this message soon.\"\n",
    "    elif importance == 'high':\n",
    "        return \"Read this message immediately!\"\n",
    "\n",
    "result = notify('medium')\n",
    "print(result)\n",
    "\n",
    "# This would be flagged by a type checker as incorrect\n",
    "result = notify('urgent')\n",
    "print(result)"
   ]
  },
  {
   "cell_type": "markdown",
   "metadata": {},
   "source": [
    "### 6.2. Typed Dictionaries (TypedDict)"
   ]
  },
  {
   "cell_type": "markdown",
   "metadata": {},
   "source": [
    "Typed dictionaries are a way to describe dictionaries with a fixed set of keys, each associated with a value of a consistent type.\n",
    "\n",
    "In the following example, `Movie` is a dictionary type with specified keys and types. Creating a `Movie` instance that doesn't adhere to this will result in a type checker error."
   ]
  },
  {
   "cell_type": "code",
   "execution_count": 8,
   "metadata": {},
   "outputs": [
    {
     "name": "stdout",
     "output_type": "stream",
     "text": [
      "{'name': 'Blade Runner', 'year': 1982}\n",
      "{'movie_name': 'Blade Runner', 'date': 1982}\n"
     ]
    }
   ],
   "source": [
    "from typing import TypedDict\n",
    "\n",
    "class Movie(TypedDict):\n",
    "    name: str\n",
    "    year: int\n",
    "\n",
    "\n",
    "movie: Movie = {'name': 'Blade Runner', 'year': 1982}\n",
    "print(movie)\n",
    "\n",
    "\n",
    "# This would be flagged by a type checker as incorrect\n",
    "movie: Movie = {'movie_name': 'Blade Runner', 'date': 1982}\n",
    "print(movie)"
   ]
  },
  {
   "cell_type": "markdown",
   "metadata": {},
   "source": [
    "### 6.3 Final Objects"
   ]
  },
  {
   "cell_type": "markdown",
   "metadata": {},
   "source": [
    "The `Final` type qualifier is used to indicate that a variable or attribute should not be reassigned, subclassed, or overridden. It's equivalent to declaring a constant."
   ]
  },
  {
   "cell_type": "code",
   "execution_count": 9,
   "metadata": {},
   "outputs": [],
   "source": [
    "from typing import Final\n",
    "\n",
    "# Using 'RATE' elsewhere implies that its value should not change\n",
    "RATE: Final = 0.05\n",
    "\n",
    "\n",
    "# This would be flagged by a type checker as incorrect\n",
    "RATE = 0.07"
   ]
  },
  {
   "cell_type": "markdown",
   "metadata": {},
   "source": [
    "### 6.4 Protocols"
   ]
  },
  {
   "cell_type": "markdown",
   "metadata": {},
   "source": [
    "Protocols are a way to specify \"structural\" subtyping in Python, which means you can define classes that are considered subtypes based on the methods and attributes they implement, not their explicit position in a class inheritance hierarchy."
   ]
  },
  {
   "cell_type": "markdown",
   "metadata": {},
   "source": [
    "- **Without Protocol**"
   ]
  },
  {
   "cell_type": "code",
   "execution_count": 10,
   "metadata": {},
   "outputs": [
    {
     "name": "stdout",
     "output_type": "stream",
     "text": [
      "Closing resource\n"
     ]
    }
   ],
   "source": [
    "class SupportsClose:\n",
    "    def close(self) -> None:\n",
    "        print('Closing resource (SupportsClose)')\n",
    "\n",
    "class Resource:\n",
    "    def close(self) -> None:\n",
    "        print('Closing resource')\n",
    "\n",
    "\n",
    "## Usage:\n",
    "def close_resource(res: SupportsClose) -> None:\n",
    "    res.close()\n",
    "\n",
    "resource = Resource()\n",
    "\n",
    "# This would be flagged by a type checker as incorrect\n",
    "close_resource(resource)"
   ]
  },
  {
   "cell_type": "markdown",
   "metadata": {},
   "source": [
    "- **With Protocol**"
   ]
  },
  {
   "cell_type": "code",
   "execution_count": 11,
   "metadata": {},
   "outputs": [
    {
     "name": "stdout",
     "output_type": "stream",
     "text": [
      "Closing resource\n"
     ]
    }
   ],
   "source": [
    "from typing import Protocol\n",
    "\n",
    "class SupportsClose(Protocol):\n",
    "    def close(self) -> None:\n",
    "        ...  # Just an ellipsis is used for the body of Protocol methods\n",
    "\n",
    "class Resource:\n",
    "    # ... other methods ...\n",
    "\n",
    "    def close(self) -> None:\n",
    "        print('Closing resource')\n",
    "\n",
    "\n",
    "## Usage:\n",
    "def close_resource(res: SupportsClose) -> None:\n",
    "    res.close()\n",
    "\n",
    "# This class conforms to the SupportsClose protocol\n",
    "resource = Resource()\n",
    "\n",
    "# Type checker is happy with this usage\n",
    "close_resource(resource)"
   ]
  },
  {
   "cell_type": "markdown",
   "metadata": {},
   "source": [
    "In the example above, any class that defines a `close` method with the correct signature is considered to implement the `SupportsClose` protocol. This can be used to achieve a type-safe duck-typing effect, where the actual class hierarchy is unimportant as long as an object \"quacks like a duck\" and has the methods and attributes defined in the protocol."
   ]
  },
  {
   "cell_type": "markdown",
   "metadata": {},
   "source": [
    "---"
   ]
  },
  {
   "cell_type": "markdown",
   "metadata": {},
   "source": [
    "## 7. Other New features\n",
    "- Parallel Filesystem Cache for Compiled Bytecode Files:  \n",
    "The new `PYTHONPYCACHEPREFIX` setting (also available as -X `pycache_prefix`) configures the implicit bytecode cache to use a separate parallel filesystem tree, rather than the default `__pycache__` subdirectories within each source directory. The location of the cache is reported in `sys.pycache_prefix` (`None` indicates the default location in `__pycache__` subdirectories).\n",
    "\n",
    "- `importlib.metadata`:  \n",
    "The new `importlib.metadata` module can be used to read metadata from Python packages, such as version, entry points, and more.\n",
    "\n",
    "- Python Runtime Audit Hooks:  \n",
    "**PEP 578** added support for Audit Hooks and Verification of “.pyc” files, which provides a mechanism to integrate security auditing directly into Python runtime."
   ]
  }
 ],
 "metadata": {
  "kernelspec": {
   "display_name": "py39",
   "language": "python",
   "name": "python3"
  },
  "language_info": {
   "codemirror_mode": {
    "name": "ipython",
    "version": 3
   },
   "file_extension": ".py",
   "mimetype": "text/x-python",
   "name": "python",
   "nbconvert_exporter": "python",
   "pygments_lexer": "ipython3",
   "version": "3.8.18"
  }
 },
 "nbformat": 4,
 "nbformat_minor": 2
}

{
 "cells": [
  {
   "cell_type": "markdown",
   "metadata": {},
   "source": [
    "# What’s New In Python 3.8¶"
   ]
  },
  {
   "cell_type": "markdown",
   "metadata": {},
   "source": [
    "---"
   ]
  },
  {
   "cell_type": "markdown",
   "metadata": {},
   "source": [
    "## Assignment expressions¶ \n",
    "\n",
    "- walrus operator `:=`"
   ]
  },
  {
   "cell_type": "code",
   "execution_count": 11,
   "metadata": {},
   "outputs": [
    {
     "name": "stdout",
     "output_type": "stream",
     "text": [
      "List is too long (20 elements, expected <= 10)\n",
      "name\n",
      "List is too long (20 elements, expected <= 10)\n",
      "name\n"
     ]
    }
   ],
   "source": [
    "a = list(range(20))\n",
    "\n",
    "# Old Version\n",
    "n = len(a)\n",
    "if n > 10:\n",
    "    print(f\"List is too long ({n} elements, expected <= 10)\")\n",
    "\n",
    "x = \"name\"\n",
    "print(x)\n",
    "\n",
    "\n",
    "# New Version\n",
    "if (n := len(a)) > 10:\n",
    "    print(f\"List is too long ({n} elements, expected <= 10)\")\n",
    "\n",
    "print(x := \"name\")"
   ]
  },
  {
   "cell_type": "markdown",
   "metadata": {},
   "source": [
    "---"
   ]
  },
  {
   "cell_type": "markdown",
   "metadata": {},
   "source": [
    "## Positional-only parameters¶\n",
    "- There is a new function parameter syntax `/` to indicate that some function parameters must be specified positionally and cannot be used as keyword arguments."
   ]
  },
  {
   "cell_type": "code",
   "execution_count": 8,
   "metadata": {},
   "outputs": [
    {
     "name": "stdout",
     "output_type": "stream",
     "text": [
      "50\n"
     ]
    }
   ],
   "source": [
    "def add(a, b, /):\n",
    "    return a + b\n",
    "\n",
    "print(add(20, 30))\n",
    "# print(add(a=20, a=30)) # Not allowed"
   ]
  },
  {
   "cell_type": "markdown",
   "metadata": {},
   "source": [
    "---"
   ]
  },
  {
   "cell_type": "markdown",
   "metadata": {},
   "source": [
    "## f-strings support ="
   ]
  },
  {
   "cell_type": "code",
   "execution_count": 10,
   "metadata": {},
   "outputs": [
    {
     "name": "stdout",
     "output_type": "stream",
     "text": [
      "name='John' and age=20 with salary=25,000\n"
     ]
    }
   ],
   "source": [
    "name = \"John\"\n",
    "age = 20\n",
    "salary = 25000\n",
    "print(f\"{name=} and {age=} with {salary=:,d}\")"
   ]
  },
  {
   "cell_type": "markdown",
   "metadata": {},
   "source": [
    "---"
   ]
  },
  {
   "cell_type": "markdown",
   "metadata": {},
   "source": [
    "## More Precise Types\n",
    "- Literal types\n",
    "- Typed dictionaries\n",
    "- Final objects\n",
    "- Protocols"
   ]
  },
  {
   "cell_type": "markdown",
   "metadata": {},
   "source": [
    "---"
   ]
  },
  {
   "cell_type": "markdown",
   "metadata": {},
   "source": [
    "## Other New features\n",
    "- Parallel filesystem cache for compiled bytecode files\n",
    "- Debug build uses the same ABI as release build\n",
    "- Python Runtime Audit Hooks\n",
    "- Python Initialization Configuration¶\n",
    "- Vectorcall: a fast calling protocol for CPython¶\n",
    "- Pickle protocol 5 with out-of-band data buffers¶\n"
   ]
  },
  {
   "cell_type": "markdown",
   "metadata": {},
   "source": [
    "---"
   ]
  }
 ],
 "metadata": {
  "kernelspec": {
   "display_name": "py39",
   "language": "python",
   "name": "python3"
  },
  "language_info": {
   "codemirror_mode": {
    "name": "ipython",
    "version": 3
   },
   "file_extension": ".py",
   "mimetype": "text/x-python",
   "name": "python",
   "nbconvert_exporter": "python",
   "pygments_lexer": "ipython3",
   "version": "3.8.18"
  }
 },
 "nbformat": 4,
 "nbformat_minor": 2
}

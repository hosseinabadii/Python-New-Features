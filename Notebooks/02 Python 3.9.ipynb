{
 "cells": [
  {
   "cell_type": "markdown",
   "metadata": {},
   "source": [
    "# What’s New In Python 3.9"
   ]
  },
  {
   "cell_type": "markdown",
   "metadata": {},
   "source": [
    "## 1. Dictionary Merge & Update Operators"
   ]
  },
  {
   "cell_type": "markdown",
   "metadata": {},
   "source": [
    "Python 3.9 added the merge (`|`) and update (`|=`) operators to the `dict` class. These make combining dictionaries more concise and readable."
   ]
  },
  {
   "cell_type": "markdown",
   "metadata": {},
   "source": [
    "- **Merge**"
   ]
  },
  {
   "cell_type": "code",
   "execution_count": 1,
   "metadata": {},
   "outputs": [
    {
     "name": "stdout",
     "output_type": "stream",
     "text": [
      "{'key1': 'value1 x', 'key2': 'value2 y', 'key3': 'value3 y'}\n"
     ]
    }
   ],
   "source": [
    "x = {\"key1\": \"value1 x\", \"key2\": \"value2 x\"}\n",
    "y = {\"key2\": \"value2 y\", \"key3\": \"value3 y\"}\n",
    "\n",
    "# Old Version\n",
    "z = {**x, **y}\n",
    "print(z)\n"
   ]
  },
  {
   "cell_type": "code",
   "execution_count": 2,
   "metadata": {},
   "outputs": [
    {
     "name": "stdout",
     "output_type": "stream",
     "text": [
      "{'key1': 'value1 x', 'key2': 'value2 y', 'key3': 'value3 y'}\n"
     ]
    }
   ],
   "source": [
    "x = {\"key1\": \"value1 x\", \"key2\": \"value2 x\"}\n",
    "y = {\"key2\": \"value2 y\", \"key3\": \"value3 y\"}\n",
    "\n",
    "\n",
    "# New Version\n",
    "z = x | y\n",
    "print(z)\n"
   ]
  },
  {
   "cell_type": "markdown",
   "metadata": {},
   "source": [
    "- **Update**"
   ]
  },
  {
   "cell_type": "code",
   "execution_count": 3,
   "metadata": {},
   "outputs": [
    {
     "name": "stdout",
     "output_type": "stream",
     "text": [
      "{'key1': 'value1 x', 'key2': 'value2 y', 'key3': 'value3 y'}\n"
     ]
    }
   ],
   "source": [
    "x = {\"key1\": \"value1 x\", \"key2\": \"value2 x\"}\n",
    "y = {\"key2\": \"value2 y\", \"key3\": \"value3 y\"}\n",
    "\n",
    "# Using Method\n",
    "x.update(y)\n",
    "print(x)"
   ]
  },
  {
   "cell_type": "code",
   "execution_count": 4,
   "metadata": {},
   "outputs": [
    {
     "name": "stdout",
     "output_type": "stream",
     "text": [
      "{'key1': 'value1 x', 'key2': 'value2 y', 'key3': 'value3 y'}\n"
     ]
    }
   ],
   "source": [
    "x = {\"key1\": \"value1 x\", \"key2\": \"value2 x\"}\n",
    "y = {\"key2\": \"value2 y\", \"key3\": \"value3 y\"}\n",
    "\n",
    "# Using Operator\n",
    "x |= y\n",
    "print(x)"
   ]
  },
  {
   "cell_type": "markdown",
   "metadata": {},
   "source": [
    "## 2. Type Hinting Generics in Standard Collections"
   ]
  },
  {
   "cell_type": "markdown",
   "metadata": {},
   "source": [
    "Prior to Python 3.9, to type-annotate collections like lists or dictionaries, you would need to import the corresponding capitalized types from the `typing` module (e.g., `List`, `Dict`). In Python 3.9, you can use the generic types directly with the standard collection types."
   ]
  },
  {
   "cell_type": "markdown",
   "metadata": {},
   "source": [
    "- `List`, `Dict`, `Set`"
   ]
  },
  {
   "cell_type": "code",
   "execution_count": 5,
   "metadata": {},
   "outputs": [],
   "source": [
    "# Old Version\n",
    "from typing import List, Dict, Set\n",
    "\n",
    "def process_values(values: List[int]) -> None:\n",
    "    print(sum(values))\n",
    "\n",
    "\n",
    "def group_values(key_value_pairs: Dict[str, int]) -> None:\n",
    "    for key, value in key_value_pairs.items():\n",
    "        print(f\"{key}: {value}\")\n",
    "\n",
    "\n",
    "def unique_values(items: Set[str]) -> None:\n",
    "    for item in items:\n",
    "        print(item)\n"
   ]
  },
  {
   "cell_type": "markdown",
   "metadata": {},
   "source": [
    "- `list`, `dict`, `set`"
   ]
  },
  {
   "cell_type": "code",
   "execution_count": 6,
   "metadata": {},
   "outputs": [],
   "source": [
    "# New Version\n",
    "def process_values(values: list[int]) -> None:\n",
    "    print(sum(values))\n",
    "\n",
    "\n",
    "def group_values(key_value_pairs: dict[str, int]) -> None:\n",
    "    for key, value in key_value_pairs.items():\n",
    "        print(f\"{key}: {value}\")\n",
    "\n",
    "\n",
    "def unique_values(items: set[int]) -> None:\n",
    "    for item in items:\n",
    "        print(item)\n"
   ]
  },
  {
   "cell_type": "markdown",
   "metadata": {},
   "source": [
    "- `Iterable`, `Sequence`, `Mapping`"
   ]
  },
  {
   "cell_type": "code",
   "execution_count": 7,
   "metadata": {},
   "outputs": [],
   "source": [
    "from collections.abc import Iterable, Sequence, Mapping\n",
    "\n",
    "def greet_all(names: Iterable[str]) -> None:\n",
    "    for name in names:\n",
    "        print(\"Hello\", name)\n",
    "\n",
    "\n",
    "def process_sequence(seq: Sequence[float]) -> float:\n",
    "    return sum(seq) / len(seq)\n",
    "\n",
    "\n",
    "def display_mapping(map_obj: Mapping[str, int]) -> None:\n",
    "    for key, value in map_obj.items():\n",
    "        print(f\"Key: {key}, Value: {value}\")\n"
   ]
  },
  {
   "cell_type": "markdown",
   "metadata": {},
   "source": [
    "## 3. New String Methods"
   ]
  },
  {
   "cell_type": "markdown",
   "metadata": {},
   "source": [
    "Python 3.9 introduced the `str.removeprefix(prefix)` and `str.removesuffix(suffix)` methods, making it easier to clean up strings."
   ]
  },
  {
   "cell_type": "code",
   "execution_count": 8,
   "metadata": {},
   "outputs": [
    {
     "name": "stdout",
     "output_type": "stream",
     "text": [
      "sales_report.csv\n",
      "2024_sales_report\n"
     ]
    }
   ],
   "source": [
    "filename = \"2024_sales_report.csv\"\n",
    "\n",
    "print(filename.removeprefix(\"2024_\"))\n",
    "print(filename.removesuffix(\".csv\"))"
   ]
  },
  {
   "cell_type": "markdown",
   "metadata": {},
   "source": [
    "## 4. The `zoneinfo` module"
   ]
  },
  {
   "cell_type": "markdown",
   "metadata": {},
   "source": [
    "The new `zoneinfo` module brings support for IANA time zones, making it easier to handle timezone-aware datetimes without the need for third-party libraries such as pytz."
   ]
  },
  {
   "cell_type": "code",
   "execution_count": 1,
   "metadata": {},
   "outputs": [
    {
     "name": "stdout",
     "output_type": "stream",
     "text": [
      "local_time    : 2023-04-01 12:00:00\n",
      "timezone_aware: 2023-04-01 12:00:00-04:00\n"
     ]
    }
   ],
   "source": [
    "from zoneinfo import ZoneInfo\n",
    "from datetime import datetime\n",
    "\n",
    "local_time = datetime(2023, 4, 1, 12, 0, 0)\n",
    "timezone_aware = local_time.replace(tzinfo=ZoneInfo(\"America/New_York\"))\n",
    "\n",
    "print(f\"local_time    : {local_time}\")\n",
    "print(f\"timezone_aware: {timezone_aware}\")\n"
   ]
  },
  {
   "cell_type": "markdown",
   "metadata": {},
   "source": [
    "## 5. Relaxing Grammar Restrictions on Decorators"
   ]
  },
  {
   "cell_type": "markdown",
   "metadata": {},
   "source": [
    "Before Python 3.9, decorators had to follow a specific pattern; they had to be either a simple name or a possibly dotted name (like `module.decorator`) or a call to such a name. You couldn't use arbitrary expressions that evaluate to a callable, and trying to use more complex expressions would raise a syntax error.\n",
    "\n",
    ">The following example was not allowed before Python 3.9:\n",
    "\n",
    "```python\n",
    "some_list = [my_decorator1, my_decorator2, ...]\n",
    "\n",
    "@some_list[0]\n",
    "def my_func():\n",
    "    pass\n",
    "```\n",
    "\n",
    "In Python 3.9, this restriction was lifted. Now, any expression that evaluates to a callable can be used as a decorator."
   ]
  },
  {
   "cell_type": "markdown",
   "metadata": {},
   "source": [
    "## 6. Other New Features"
   ]
  },
  {
   "cell_type": "markdown",
   "metadata": {},
   "source": [
    "- **New Parser**: Python 3.9 is the first version to use the new PEG (Parsing Expression Grammar) based parser, which replaces the previous LL(1)-based parser. This should not affect the syntax of Python but will allow for a more flexible handling of the language's syntax in the future.\n",
    "\n",
    "- `graphlib`: A module that includes functionally related to graph theory (e.g., topological sort).\n",
    "\n",
    "- `math.nextafter`: A function that can receive two floating-point numbers and returns the next floating-point number on the number line towards the direction of the second one.\n",
    "\n",
    "- `ipaddress` Improvements: The IP address handling module received several improvements.\n",
    "\n",
    "- **Standard Library Updates**: Modules like `json`, `unittest`, and `math` have received various enhancements and optimizations."
   ]
  }
 ],
 "metadata": {
  "kernelspec": {
   "display_name": "py39",
   "language": "python",
   "name": "python3"
  },
  "language_info": {
   "codemirror_mode": {
    "name": "ipython",
    "version": 3
   },
   "file_extension": ".py",
   "mimetype": "text/x-python",
   "name": "python",
   "nbconvert_exporter": "python",
   "pygments_lexer": "ipython3",
   "version": "3.9.18"
  }
 },
 "nbformat": 4,
 "nbformat_minor": 2
}

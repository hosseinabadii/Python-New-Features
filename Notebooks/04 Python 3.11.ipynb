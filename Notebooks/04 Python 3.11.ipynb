{
 "cells": [
  {
   "cell_type": "markdown",
   "metadata": {},
   "source": [
    "# What’s New In Python 3.11"
   ]
  },
  {
   "cell_type": "markdown",
   "metadata": {},
   "source": [
    "---"
   ]
  },
  {
   "cell_type": "markdown",
   "metadata": {},
   "source": [
    "## 1. `ExceptionGroup` and `except*` syntax"
   ]
  },
  {
   "cell_type": "markdown",
   "metadata": {},
   "source": [
    "Python 3.11 introduces the concepts of Exception Groups and the `except*` syntax for handling multiple exceptions raised **simultaneously** in different tasks of an **asynchronous** program.\n",
    "\n",
    "The new `except*` syntax in Python 3.11 makes it more convenient to gracefully deal with several errors at the same time."
   ]
  },
  {
   "cell_type": "code",
   "execution_count": 1,
   "metadata": {},
   "outputs": [
    {
     "name": "stdout",
     "output_type": "stream",
     "text": [
      "Handling ValueError: (ValueError(654),)\n",
      "Handling TypeError: (TypeError('str'), TypeError('int'))\n"
     ]
    }
   ],
   "source": [
    "try:\n",
    "    raise ExceptionGroup(\n",
    "        \"group\", [TypeError(\"str\"), ValueError(654), TypeError(\"int\")]\n",
    "    )\n",
    "except* ValueError as eg:\n",
    "    print(f\"Handling ValueError: {eg.exceptions}\")\n",
    "except* TypeError as eg:\n",
    "    print(f\"Handling TypeError: {eg.exceptions}\")"
   ]
  },
  {
   "cell_type": "markdown",
   "metadata": {},
   "source": [
    "## 2. Task and Future Groups in asyncio"
   ]
  },
  {
   "cell_type": "markdown",
   "metadata": {},
   "source": [
    "This feature allows for better management of tasks and futures in asynchronous programming, enabling grouping and handling them collectively."
   ]
  },
  {
   "cell_type": "markdown",
   "metadata": {},
   "source": [
    "- Before `asyncio.TaskGroup`"
   ]
  },
  {
   "cell_type": "code",
   "execution_count": null,
   "metadata": {},
   "outputs": [],
   "source": [
    "import asyncio\n",
    "\n",
    "\n",
    "async def coroutine1(t1: int):\n",
    "    print(\"Calling coroutine1\")\n",
    "    print(f\"waiting for {t1}s...\")\n",
    "    await asyncio.sleep(t1)\n",
    "    print(\"End of coroutine1!\")\n",
    "\n",
    "\n",
    "async def coroutine2(t2: int):\n",
    "    print(\"Calling coroutine2\")\n",
    "    print(f\"waiting for {t2}s...\")\n",
    "    await asyncio.sleep(t2)\n",
    "    print(\"End of coroutine2!\")\n",
    "\n",
    "\n",
    "async def run_tasks():\n",
    "    task1 = asyncio.create_task(coroutine1(2))\n",
    "    task2 = asyncio.create_task(coroutine2(4))\n",
    "\n",
    "    await asyncio.gather(task1, task2)\n",
    "\n",
    "\n",
    "\n",
    "if __name__ == \"__main__\":\n",
    "    asyncio.run(run_tasks())\n"
   ]
  },
  {
   "cell_type": "markdown",
   "metadata": {},
   "source": [
    "- Using `asyncio.TaskGroup` (Python 3.11+)"
   ]
  },
  {
   "cell_type": "code",
   "execution_count": null,
   "metadata": {},
   "outputs": [],
   "source": [
    "import asyncio\n",
    "\n",
    "\n",
    "async def coroutine1(t1: int):\n",
    "    print(\"Calling coroutine1\")\n",
    "    print(f\"waiting for {t1}s...\")\n",
    "    await asyncio.sleep(t1)\n",
    "    print(\"End of coroutine1!\")\n",
    "\n",
    "\n",
    "async def coroutine2(t2: int):\n",
    "    print(\"Calling coroutine2\")\n",
    "    print(f\"waiting for {t2}s...\")\n",
    "    await asyncio.sleep(t2)\n",
    "    print(\"End of coroutine2!\")\n",
    "\n",
    "\n",
    "async def run_tasks():\n",
    "\n",
    "    async with asyncio.TaskGroup() as group:\n",
    "        group.create_task(coroutine1(2))\n",
    "        group.create_task(coroutine2(4))\n",
    "\n",
    "\n",
    "\n",
    "if __name__ == \"__main__\":\n",
    "    asyncio.run(run_tasks())\n"
   ]
  },
  {
   "cell_type": "markdown",
   "metadata": {},
   "source": [
    "## 3. `Self` Type"
   ]
  },
  {
   "cell_type": "markdown",
   "metadata": {},
   "source": [
    "The type annotation `Self` was added to easily annotate methods that return an instance of their class."
   ]
  },
  {
   "cell_type": "code",
   "execution_count": 3,
   "metadata": {},
   "outputs": [
    {
     "name": "stdout",
     "output_type": "stream",
     "text": [
      "Name: John Doe\n",
      "Lifespan: 1900 - 1980\n"
     ]
    }
   ],
   "source": [
    "from dataclasses import dataclass\n",
    "from typing import Any, Self\n",
    "\n",
    "@dataclass\n",
    "class Person:\n",
    "    name: str\n",
    "    life_span: tuple[int, int]\n",
    "\n",
    "    @classmethod\n",
    "    def from_dict(cls, info: dict[str, Any]) -> Self:\n",
    "        return cls(\n",
    "            name=f\"{info['name']['first']} {info['name']['last']}\",\n",
    "            life_span=(info[\"birth\"][\"year\"], info[\"death\"][\"year\"]),\n",
    "        )\n",
    "\n",
    "\n",
    "\n",
    "# Sample dictionary containing person information\n",
    "person_info = {\n",
    "    \"name\": {\n",
    "        \"first\": \"John\",\n",
    "        \"last\": \"Doe\"\n",
    "    },\n",
    "    \"birth\": {\n",
    "        \"year\": 1900\n",
    "    },\n",
    "    \"death\": {\n",
    "        \"year\": 1980\n",
    "    }\n",
    "}\n",
    "\n",
    "person_instance = Person.from_dict(person_info)\n",
    "print(f\"Name: {person_instance.name}\")\n",
    "print(f\"Lifespan: {person_instance.life_span[0]} - {person_instance.life_span[1]}\")\n"
   ]
  },
  {
   "cell_type": "markdown",
   "metadata": {},
   "source": [
    "## 4. `Required` and `NotRequired` Type"
   ]
  },
  {
   "cell_type": "code",
   "execution_count": 4,
   "metadata": {},
   "outputs": [
    {
     "name": "stdout",
     "output_type": "stream",
     "text": [
      "{'name': 'The Matrix'}\n"
     ]
    }
   ],
   "source": [
    "from typing import Required, NotRequired, TypedDict\n",
    "\n",
    "class Movie(TypedDict):\n",
    "    name: Required[str]\n",
    "    year: NotRequired[int]\n",
    "\n",
    "movie: Movie = {'name': 'The Matrix'}  # 'year' is not required here.\n",
    "print(movie)"
   ]
  },
  {
   "cell_type": "markdown",
   "metadata": {},
   "source": [
    "## 5. The `tomllib` module"
   ]
  },
  {
   "cell_type": "markdown",
   "metadata": {},
   "source": [
    "This module was added for parsing TOML files according to the TOML 1.0.0 specification."
   ]
  },
  {
   "cell_type": "code",
   "execution_count": null,
   "metadata": {},
   "outputs": [],
   "source": [
    "import tomllib\n",
    "\n",
    "# Read TOML data from a file\n",
    "with open('config.toml', 'rb') as file:\n",
    "    data = tomllib.load(file)"
   ]
  },
  {
   "cell_type": "markdown",
   "metadata": {},
   "source": [
    "## 6. Other New Features"
   ]
  },
  {
   "cell_type": "markdown",
   "metadata": {},
   "source": [
    "- **Enhanced error locations in tracebacks**: Error messages now point to the exact expression that caused the error, not just the line. This makes debugging much easier, especially in complex expressions.\n",
    "\n",
    "- **Faster and more concise tracebacks**: Better formatting of tracebacks makes them easier to read, and the interpreter's speed in generating tracebacks has been improved.\n",
    "\n",
    "- **Cross-type comparison optimizations**: Comparisons between different numeric types have been optimized, leading to significant performance improvements.\n",
    "\n",
    "- **Improvements to typing**: Various enhancements include allowing `class` and `def` as expressions to support dynamically generated types and functions, additions to the `typing_extensions` module, and more.\n",
    "\n",
    "- **Performance improvements**: Many built-in functions and methods are faster in Python 3.11. The speedups were achieved through a number of optimizations, including specialized instruction handling and better function invocation.\n"
   ]
  }
 ],
 "metadata": {
  "kernelspec": {
   "display_name": "py39",
   "language": "python",
   "name": "python3"
  },
  "language_info": {
   "codemirror_mode": {
    "name": "ipython",
    "version": 3
   },
   "file_extension": ".py",
   "mimetype": "text/x-python",
   "name": "python",
   "nbconvert_exporter": "python",
   "pygments_lexer": "ipython3",
   "version": "3.11.5"
  }
 },
 "nbformat": 4,
 "nbformat_minor": 2
}

{
 "cells": [
  {
   "cell_type": "markdown",
   "metadata": {},
   "source": [
    "# What’s New In Python 3.12"
   ]
  },
  {
   "cell_type": "markdown",
   "metadata": {},
   "source": [
    "---"
   ]
  },
  {
   "cell_type": "markdown",
   "metadata": {},
   "source": [
    "## 1. Syntactic formalization of f-strings"
   ]
  },
  {
   "cell_type": "markdown",
   "metadata": {},
   "source": [
    "In general, the new implementation of f-strings lifts some restrictions that were added originally. Many of these restrictions were put in place to make f-strings easier to handle for external tools like IDEs and code highlighters."
   ]
  },
  {
   "cell_type": "markdown",
   "metadata": {},
   "source": [
    "### 1.1 Embedded expressions can reuse quotes\n",
    "Before Python 3.12, it is impossible to use the quote character delimiting the f-string within the expression portion"
   ]
  },
  {
   "cell_type": "code",
   "execution_count": 1,
   "metadata": {},
   "outputs": [
    {
     "ename": "SyntaxError",
     "evalue": "f-string: unmatched '[' (2157681866.py, line 2)",
     "output_type": "error",
     "traceback": [
      "\u001b[0;36m  Cell \u001b[0;32mIn[1], line 2\u001b[0;36m\u001b[0m\n\u001b[0;31m    print(f\"Info: {info[\"name\"]} is {info[\"age\"]} years old!\")\u001b[0m\n\u001b[0m                         ^\u001b[0m\n\u001b[0;31mSyntaxError\u001b[0m\u001b[0;31m:\u001b[0m f-string: unmatched '['\n"
     ]
    }
   ],
   "source": [
    "info = {\"name\": \"John\", \"age\": 25}\n",
    "print(f\"Info: {info[\"name\"]} is {info[\"age\"]} years old!\")"
   ]
  },
  {
   "cell_type": "code",
   "execution_count": 2,
   "metadata": {},
   "outputs": [
    {
     "ename": "SyntaxError",
     "evalue": "f-string: unmatched '[' (2707661099.py, line 2)",
     "output_type": "error",
     "traceback": [
      "\u001b[0;36m  Cell \u001b[0;32mIn[2], line 2\u001b[0;36m\u001b[0m\n\u001b[0;31m    print(f'Info: {info['name']} is {info['age']} years old!')\u001b[0m\n\u001b[0m                         ^\u001b[0m\n\u001b[0;31mSyntaxError\u001b[0m\u001b[0;31m:\u001b[0m f-string: unmatched '['\n"
     ]
    }
   ],
   "source": [
    "info = {\"name\": \"John\", \"age\": 25}\n",
    "print(f'Info: {info['name']} is {info['age']} years old!')"
   ]
  },
  {
   "cell_type": "markdown",
   "metadata": {},
   "source": [
    "Now it is possible:"
   ]
  },
  {
   "cell_type": "code",
   "execution_count": 3,
   "metadata": {},
   "outputs": [
    {
     "name": "stdout",
     "output_type": "stream",
     "text": [
      "Info: John is 25 years old!\n"
     ]
    }
   ],
   "source": [
    "info = {\"name\": \"John\", \"age\": 25}\n",
    "print(f\"Info: {info[\"name\"]} is {info[\"age\"]} years old!\")"
   ]
  },
  {
   "cell_type": "code",
   "execution_count": 4,
   "metadata": {},
   "outputs": [
    {
     "name": "stdout",
     "output_type": "stream",
     "text": [
      "Info: John is 25 years old!\n"
     ]
    }
   ],
   "source": [
    "info = {\"name\": \"John\", \"age\": 25}\n",
    "print(f'Info: {info['name']} is {info['age']} years old!')"
   ]
  },
  {
   "cell_type": "markdown",
   "metadata": {},
   "source": [
    "### 1.2 Backslashes now allowed in f-Strings\n",
    "Before Python 3.12, it is impossible to use escape sequences with backslahs (`\\`) within the expression portion of the f-string."
   ]
  },
  {
   "cell_type": "code",
   "execution_count": 1,
   "metadata": {},
   "outputs": [
    {
     "ename": "SyntaxError",
     "evalue": "f-string expression part cannot include a backslash (1801773506.py, line 2)",
     "output_type": "error",
     "traceback": [
      "\u001b[0;36m  Cell \u001b[0;32mIn[1], line 2\u001b[0;36m\u001b[0m\n\u001b[0;31m    print(f\"List of names:\\n{'\\n'.join(names)}\")\u001b[0m\n\u001b[0m                                               ^\u001b[0m\n\u001b[0;31mSyntaxError\u001b[0m\u001b[0;31m:\u001b[0m f-string expression part cannot include a backslash\n"
     ]
    }
   ],
   "source": [
    "names = [\"John\", \"Dave\", \"Bob\"]\n",
    "print(f\"List of names:\\n{'\\n'.join(names)}\")"
   ]
  },
  {
   "cell_type": "markdown",
   "metadata": {},
   "source": [
    "Now it is possible:"
   ]
  },
  {
   "cell_type": "code",
   "execution_count": 4,
   "metadata": {},
   "outputs": [
    {
     "name": "stdout",
     "output_type": "stream",
     "text": [
      "List of names:\n",
      "John\n",
      "Dave\n",
      "Bob\n"
     ]
    }
   ],
   "source": [
    "names = [\"John\", \"Dave\", \"Bob\"]\n",
    "print(f\"List of names:\\n{'\\n'.join(names)}\")"
   ]
  },
  {
   "cell_type": "markdown",
   "metadata": {},
   "source": [
    "### 1.3 Comments accepted in multiline expressions"
   ]
  },
  {
   "cell_type": "markdown",
   "metadata": {},
   "source": [
    "As with other types of braces and parentheses, you can now add newlines inside the curly braces delimiting expressions in f-strings. As an added bonus, you can also add comments to expressions. Since a comment extends to the end of the line, you need to close the expression on the next line or later."
   ]
  },
  {
   "cell_type": "code",
   "execution_count": 1,
   "metadata": {},
   "outputs": [
    {
     "ename": "SyntaxError",
     "evalue": "unterminated string literal (detected at line 3) (3443415498.py, line 3)",
     "output_type": "error",
     "traceback": [
      "\u001b[0;36m  Cell \u001b[0;32mIn[1], line 3\u001b[0;36m\u001b[0m\n\u001b[0;31m    msg = f\"Info: {\u001b[0m\n\u001b[0m          ^\u001b[0m\n\u001b[0;31mSyntaxError\u001b[0m\u001b[0;31m:\u001b[0m unterminated string literal (detected at line 3)\n"
     ]
    }
   ],
   "source": [
    "name = \"John\"\n",
    "age = 25\n",
    "msg = f\"Info: {\n",
    "    name # This is name of user\n",
    "} is {age # This is age of user\n",
    "} years old!\"\n",
    "print(msg)"
   ]
  },
  {
   "cell_type": "markdown",
   "metadata": {},
   "source": [
    "Now it is possible:"
   ]
  },
  {
   "cell_type": "code",
   "execution_count": 20,
   "metadata": {},
   "outputs": [
    {
     "name": "stdout",
     "output_type": "stream",
     "text": [
      "Info: John is 25 years old!\n"
     ]
    }
   ],
   "source": [
    "name = \"John\"\n",
    "age = 25\n",
    "msg = f\"Info: {\n",
    "    name # This is name of user\n",
    "} is {age # This is age of user\n",
    "} years old!\"\n",
    "print(msg)"
   ]
  },
  {
   "cell_type": "markdown",
   "metadata": {},
   "source": [
    "## 2. Dedicated type variable syntax"
   ]
  },
  {
   "cell_type": "markdown",
   "metadata": {},
   "source": [
    "**Type variables** constitute an important and powerful part of Python’s typing system. A type variable can stand in for a concrete type during static type checking. You use type variables to parametrize **generic classes** and **generic functions**."
   ]
  },
  {
   "cell_type": "markdown",
   "metadata": {},
   "source": [
    "#### Example 1:\n",
    "Defining a generic function"
   ]
  },
  {
   "cell_type": "markdown",
   "metadata": {},
   "source": [
    "- Before:"
   ]
  },
  {
   "cell_type": "code",
   "execution_count": 5,
   "metadata": {},
   "outputs": [
    {
     "data": {
      "text/plain": [
       "'a'"
      ]
     },
     "execution_count": 5,
     "metadata": {},
     "output_type": "execute_result"
    }
   ],
   "source": [
    "from typing import TypeVar\n",
    "\n",
    "T = TypeVar(\"T\")\n",
    "\n",
    "def get_first(elements: list[T]) -> T:\n",
    "    return elements[0]\n",
    "\n",
    "get_first([\"a\", \"b\", \"c\"])\n"
   ]
  },
  {
   "cell_type": "markdown",
   "metadata": {},
   "source": [
    "- After:"
   ]
  },
  {
   "cell_type": "code",
   "execution_count": 1,
   "metadata": {},
   "outputs": [
    {
     "data": {
      "text/plain": [
       "'a'"
      ]
     },
     "execution_count": 1,
     "metadata": {},
     "output_type": "execute_result"
    }
   ],
   "source": [
    "def get_first[T](elements: list[T]) -> T:\n",
    "    return elements[0]\n",
    "\n",
    "get_first([\"a\", \"b\", \"c\"])"
   ]
  },
  {
   "cell_type": "markdown",
   "metadata": {},
   "source": [
    "#### Example 2:\n",
    "Definig a new type variable"
   ]
  },
  {
   "cell_type": "markdown",
   "metadata": {},
   "source": [
    "- Before:"
   ]
  },
  {
   "cell_type": "code",
   "execution_count": 5,
   "metadata": {},
   "outputs": [],
   "source": [
    "from typing import TypeAlias, TypeVar\n",
    "\n",
    "T = TypeVar(\"T\")\n",
    "\n",
    "Point: TypeAlias = tuple[float, float]\n",
    "ListOrSet: TypeAlias = list[T] | set[T]"
   ]
  },
  {
   "cell_type": "markdown",
   "metadata": {},
   "source": [
    "- After:"
   ]
  },
  {
   "cell_type": "code",
   "execution_count": 6,
   "metadata": {},
   "outputs": [],
   "source": [
    "type Point = tuple[float, float]\n",
    "type ListOrSet[T] = list[T] | list[T]"
   ]
  },
  {
   "cell_type": "markdown",
   "metadata": {},
   "source": [
    "## 3. Using `TypedDict` for more precise `**kwargs` typing"
   ]
  },
  {
   "cell_type": "code",
   "execution_count": 1,
   "metadata": {},
   "outputs": [
    {
     "name": "stdout",
     "output_type": "stream",
     "text": [
      "<class 'dict'>\n",
      "{'name': 'Life of Brian', 'year': 1979}\n",
      "<class 'dict'>\n",
      "{'name': 'The Meaning of the Life', 'year': 1983}\n"
     ]
    }
   ],
   "source": [
    "from typing import TypedDict, Unpack, Any\n",
    "\n",
    "class Movie(TypedDict):\n",
    "    name: str\n",
    "    year: int\n",
    "\n",
    "def print_movie_info(**kwargs: Unpack[Movie]):\n",
    "    print(type(kwargs))\n",
    "    print(kwargs)\n",
    "\n",
    "\n",
    "movie: dict[str, Any] = {\"name\": \"Life of Brian\", \"year\": 1979}\n",
    "print_movie_info(**movie) # This line will raise a type checking error\n",
    "\n",
    "typed_movie: Movie = {\"name\": \"The Meaning of the Life\", \"year\": 1983}\n",
    "print_movie_info(**typed_movie) # OK!"
   ]
  },
  {
   "cell_type": "markdown",
   "metadata": {},
   "source": [
    "## 4. Override Decorator for Static Typing"
   ]
  },
  {
   "cell_type": "code",
   "execution_count": 1,
   "metadata": {},
   "outputs": [
    {
     "name": "stdout",
     "output_type": "stream",
     "text": [
      "Red\n"
     ]
    }
   ],
   "source": [
    "from typing import override\n",
    "\n",
    "\n",
    "class Base:\n",
    "    def get_color(self) -> str:\n",
    "        return \"Red\"\n",
    "\n",
    "\n",
    "class FirstChild(Base):\n",
    "    @override # OK: overrides the Base.get_color\n",
    "    def get_color(self) -> str:\n",
    "        return \"Black\"\n",
    "\n",
    "\n",
    "class SecondChild(Base):\n",
    "    @override # This line will raise a type checking error\n",
    "    def print_color(self) -> str:\n",
    "        return \"Blue\"\n",
    "\n",
    "obj = SecondChild()\n",
    "color = obj.get_color()\n",
    "print(color)"
   ]
  },
  {
   "cell_type": "markdown",
   "metadata": {},
   "source": [
    "## 5. Interpreter improvements:\n",
    "- **PEP 684, a unique per-interpreter GIL:**\n",
    "  The Global Interpreter Lock (GIL) is a mutex that protects access to Python objects, preventing multiple threads from executing Python bytecodes at once. In Python 3.12, each sub-interpreter will have its own GIL, which can improve parallelism when using sub-interpreters, since they will not block each other as much as when sharing a single GIL.\n",
    "\n",
    "- **PEP 669, low impact monitoring:**\n",
    "  This proposal is about reducing the performance impact of monitoring tools on Python applications. Once implemented, it will allow for profiling and tracing tools to have a lower impact on the execution speed of Python programs.\n",
    "\n",
    "- **Improved ‘Did you mean …’ suggestions for NameError, ImportError, and SyntaxError exceptions:**\n",
    "  Error messages in Python 3.12 will provide better suggestions when you encounter NameErrors, ImportErrors, or SyntaxErrors, by guessing what you might have meant. This can be very helpful for debugging and fixing typos or small mistakes quickly.\n",
    "\n"
   ]
  },
  {
   "cell_type": "markdown",
   "metadata": {},
   "source": [
    "\n",
    "## 6. Significant improvements in the standard library:\n",
    "- **`pathlib.Path` class now supports subclassing:**\n",
    "  This change makes it easier to extend the `pathlib.Path` class to create custom path-related functionality.\n",
    "\n",
    "- **The `os` module received several improvements for Windows support:**\n",
    "  Enhancements to the `os` module's capabilities on Windows will make it more robust and feature-complete when working with the Windows operating system.\n",
    "\n",
    "- **A command-line interface has been added to the `sqlite3` module:**\n",
    "  Similar to the command-line tools available for SQLite outside of Python, this new feature allows for database manipulation directly from the Python command line using the `sqlite3` module.\n",
    "\n",
    "- **`isinstance()` checks against runtime-checkable protocols enjoy a speed up of between two and 20 times:**\n",
    "  Performance optimization for `isinstance()` function calls means that checking if an object conforms to a type specified by a protocol can be significantly faster.\n",
    "\n",
    "- **The `asyncio` package has had a number of performance improvements:**\n",
    "  Speed improvements in asyncio can lead to better performance for asynchronous I/O operations. Some benchmarks may show up to a 75% speed increase.\n",
    "\n",
    "- **A command-line interface has been added to the `uuid` module:**\n",
    "  This feature allows the generation of UUIDs (Universally Unique Identifiers) from the command line using the `uuid` module.\n",
    "\n",
    "- **Due to the changes in PEP 701, producing tokens via the `tokenize` module is up to 64% faster:**\n",
    "  By integrating f-strings into the grammar, not only is their handling potentially more efficient, but this can also translate into performance improvements for the `tokenize` module, which is used for breaking Python code into tokens for parsing.\n"
   ]
  }
 ],
 "metadata": {
  "kernelspec": {
   "display_name": "py39",
   "language": "python",
   "name": "python3"
  },
  "language_info": {
   "codemirror_mode": {
    "name": "ipython",
    "version": 3
   },
   "file_extension": ".py",
   "mimetype": "text/x-python",
   "name": "python",
   "nbconvert_exporter": "python",
   "pygments_lexer": "ipython3",
   "version": "3.12.0"
  }
 },
 "nbformat": 4,
 "nbformat_minor": 2
}

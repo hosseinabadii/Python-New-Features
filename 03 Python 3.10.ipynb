{
 "cells": [
  {
   "cell_type": "markdown",
   "metadata": {},
   "source": [
    "# What’s New In Python 3.10¶"
   ]
  },
  {
   "cell_type": "markdown",
   "metadata": {},
   "source": [
    "---"
   ]
  },
  {
   "cell_type": "markdown",
   "metadata": {},
   "source": [
    "## New syntax features:\n",
    "- Structural Pattern Matching: Specification\n",
    "- Structural Pattern Matching: Motivation and Rationale\n",
    "- Structural Pattern Matching: Tutorial\n",
    "- Parenthesized context managers are now officially allowed."
   ]
  },
  {
   "cell_type": "code",
   "execution_count": 4,
   "metadata": {},
   "outputs": [
    {
     "name": "stdout",
     "output_type": "stream",
     "text": [
      "I'm a teapot\n"
     ]
    }
   ],
   "source": [
    "http_code = \"418\"\n",
    "\n",
    "if http_code == \"200\":\n",
    "    print(\"OK\")\n",
    "elif http_code == \"404\":\n",
    "    print(\"Not Found\")\n",
    "elif http_code == \"418\":\n",
    "    print(\"I'm a teapot\")\n",
    "else:\n",
    "    print(\"Code not found\")"
   ]
  },
  {
   "cell_type": "code",
   "execution_count": 1,
   "metadata": {},
   "outputs": [
    {
     "name": "stdout",
     "output_type": "stream",
     "text": [
      "I'm a teapot\n"
     ]
    }
   ],
   "source": [
    "http_code = \"418\"\n",
    "\n",
    "match http_code:\n",
    "    case \"200\":\n",
    "        print(\"OK\")\n",
    "    case \"404\":\n",
    "        print(\"Not Found\")\n",
    "    case \"418\":\n",
    "        print(\"I'm a teapot\")\n",
    "    case _:\n",
    "        print(\"Code not found\")"
   ]
  },
  {
   "cell_type": "code",
   "execution_count": 9,
   "metadata": {},
   "outputs": [
    {
     "name": "stdout",
     "output_type": "stream",
     "text": [
      "1 path1 west\n",
      "1 path2 east\n",
      "No Match\n"
     ]
    }
   ],
   "source": [
    "dict_1 = {\n",
    "    \"id\": 1,\n",
    "    \"meta\": {\n",
    "        \"source\": \"path1\",\n",
    "        \"location\": \"west\",\n",
    "    }\n",
    "}\n",
    "\n",
    "dict_2 = {\n",
    "    \"id\": 2,\n",
    "    \"source\": \"path2\",\n",
    "    \"location\": \"east\",\n",
    "}\n",
    "\n",
    "for d in (dict_1, dict_2, \"other\"):\n",
    "    match d:\n",
    "        case {\n",
    "            \"id\": ident,\n",
    "            \"meta\": {\n",
    "                \"source\": source,\n",
    "                \"location\": loc,\n",
    "                }\n",
    "            }:\n",
    "            print(ident, source, loc)\n",
    "\n",
    "        case {\n",
    "            \"id\": inden,\n",
    "            \"source\": source,\n",
    "            \"location\": loc,\n",
    "            }:\n",
    "            print(ident, source, loc)\n",
    "\n",
    "        case _:\n",
    "            print(\"No Match\")"
   ]
  },
  {
   "cell_type": "code",
   "execution_count": null,
   "metadata": {},
   "outputs": [],
   "source": [
    "with open(\"file1.txt\", \"r\") as f_in,\\\n",
    "     open(\"file2.txt\", \"w\") as f_out:\n",
    "    pass\n",
    "\n",
    "\n",
    "with (\n",
    "    open(\"file1.txt\", \"r\") as f_in,\n",
    "    open(\"file2.txt\", \"w\") as f_out\n",
    "    ):\n",
    "    pass\n"
   ]
  },
  {
   "cell_type": "markdown",
   "metadata": {},
   "source": [
    "---"
   ]
  },
  {
   "cell_type": "markdown",
   "metadata": {},
   "source": [
    "## New features in the standard library:\n",
    "- Add Optional Length-Checking To zip."
   ]
  },
  {
   "cell_type": "markdown",
   "metadata": {},
   "source": [
    "---"
   ]
  },
  {
   "cell_type": "markdown",
   "metadata": {},
   "source": [
    "## Interpreter improvements:\n",
    "- Precise line numbers for debugging and other tools."
   ]
  },
  {
   "cell_type": "markdown",
   "metadata": {},
   "source": [
    "---"
   ]
  },
  {
   "cell_type": "markdown",
   "metadata": {},
   "source": [
    "## New typing features:\n",
    "- Allow writing union types as X | Y\n",
    "- Parameter Specification Variables\n",
    "- Explicit Type Aliases\n",
    "- User-Defined Type Guards"
   ]
  },
  {
   "cell_type": "code",
   "execution_count": null,
   "metadata": {},
   "outputs": [],
   "source": [
    "from typing import Union\n",
    "def add(x: Union[int, float], y: Union[int, float]):\n",
    "    pass\n",
    "\n",
    "\n",
    "def add(x: int | float, y: int | float):\n",
    "    pass\n"
   ]
  },
  {
   "cell_type": "markdown",
   "metadata": {},
   "source": [
    "---"
   ]
  },
  {
   "cell_type": "markdown",
   "metadata": {},
   "source": [
    "## Important deprecations, removals or restrictions:\n",
    "- Require OpenSSL 1.1.1 or newer\n",
    "- Deprecate distutils module.\n",
    "- Deprecate and prepare for the removal of the wstr member in PyUnicodeObject.\n",
    "- Remove Py_UNICODE encoder APIs\n",
    "- Add optional EncodingWarning"
   ]
  },
  {
   "cell_type": "markdown",
   "metadata": {},
   "source": [
    "---"
   ]
  }
 ],
 "metadata": {
  "kernelspec": {
   "display_name": "py39",
   "language": "python",
   "name": "python3"
  },
  "language_info": {
   "codemirror_mode": {
    "name": "ipython",
    "version": 3
   },
   "file_extension": ".py",
   "mimetype": "text/x-python",
   "name": "python",
   "nbconvert_exporter": "python",
   "pygments_lexer": "ipython3",
   "version": "3.10.13"
  }
 },
 "nbformat": 4,
 "nbformat_minor": 2
}

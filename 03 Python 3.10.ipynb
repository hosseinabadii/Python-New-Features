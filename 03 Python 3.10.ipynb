{
 "cells": [
  {
   "cell_type": "markdown",
   "metadata": {},
   "source": [
    "# What’s New In Python 3.10"
   ]
  },
  {
   "cell_type": "markdown",
   "metadata": {},
   "source": [
    "---"
   ]
  },
  {
   "cell_type": "markdown",
   "metadata": {},
   "source": [
    "## 1. Pattern Matching"
   ]
  },
  {
   "cell_type": "markdown",
   "metadata": {},
   "source": [
    "One of the most significant features in Python 3.10 is the introduction of Structural Pattern Matching. It allows you to match patterns in an object structure using a new `match` statement, which is similar to the `switch` or `case` statements found in other languages.\n",
    "\n",
    "\n",
    "```python\n",
    "match subject:\n",
    "    case <pattern_1>:\n",
    "        <action_1>\n",
    "    case <pattern_2>:\n",
    "        <action_2>\n",
    "    case _:\n",
    "        <action_default>\n",
    "```"
   ]
  },
  {
   "cell_type": "markdown",
   "metadata": {},
   "source": [
    "### Example 1:"
   ]
  },
  {
   "cell_type": "markdown",
   "metadata": {},
   "source": [
    "- Using `if` statement"
   ]
  },
  {
   "cell_type": "code",
   "execution_count": 1,
   "metadata": {},
   "outputs": [
    {
     "name": "stdout",
     "output_type": "stream",
     "text": [
      "Bad request\n",
      "Not found\n",
      "I'm a teapot\n",
      "Something's wrong with the internet\n"
     ]
    }
   ],
   "source": [
    "def http_error(status):\n",
    "    if status == 400:\n",
    "        return \"Bad request\"\n",
    "    elif status == 404:\n",
    "        return \"Not found\"\n",
    "    elif status == 418:\n",
    "        return \"I'm a teapot\"\n",
    "    else:\n",
    "        return \"Something's wrong with the internet\"\n",
    "\n",
    "print(http_error(400))\n",
    "print(http_error(404))\n",
    "print(http_error(418))\n",
    "print(http_error(500))\n"
   ]
  },
  {
   "cell_type": "markdown",
   "metadata": {},
   "source": [
    "- Using `match-case` pattern"
   ]
  },
  {
   "cell_type": "code",
   "execution_count": 2,
   "metadata": {},
   "outputs": [
    {
     "name": "stdout",
     "output_type": "stream",
     "text": [
      "Bad request\n",
      "Not found\n",
      "I'm a teapot\n",
      "Something's wrong with the internet\n"
     ]
    }
   ],
   "source": [
    "def http_error(status):\n",
    "    match status:\n",
    "        case 400:\n",
    "            return \"Bad request\"\n",
    "        case 404:\n",
    "            return \"Not found\"\n",
    "        case 418:\n",
    "            return \"I'm a teapot\"\n",
    "        case _:\n",
    "            return \"Something's wrong with the internet\"\n",
    "\n",
    "print(http_error(400))\n",
    "print(http_error(404))\n",
    "print(http_error(418))\n",
    "print(http_error(500))\n"
   ]
  },
  {
   "cell_type": "markdown",
   "metadata": {},
   "source": [
    "### Example 2:"
   ]
  },
  {
   "cell_type": "code",
   "execution_count": 3,
   "metadata": {},
   "outputs": [
    {
     "name": "stdout",
     "output_type": "stream",
     "text": [
      "Hello, young Alice!\n",
      "Hello, Bob!\n",
      "Hello, Charlie!\n",
      "Who are you?\n"
     ]
    }
   ],
   "source": [
    "def greet(person):\n",
    "    match person:\n",
    "        case {'name': 'Alice', 'age': age} if age < 30:\n",
    "            return f\"Hello, young Alice!\"\n",
    "        case {'name': 'Bob', 'age': 30}:\n",
    "            return \"Hello, Bob!\"\n",
    "        case {'name': name}:\n",
    "            return f\"Hello, {name}!\"\n",
    "        case _:\n",
    "            return \"Who are you?\"\n",
    "\n",
    "print(greet({'name': 'Alice', 'age': 25}))\n",
    "print(greet({'name': 'Bob', 'age': 30}))\n",
    "print(greet({'name': 'Charlie'}))\n",
    "print(greet('Unknown'))\n"
   ]
  },
  {
   "cell_type": "markdown",
   "metadata": {},
   "source": [
    "### Example 3:"
   ]
  },
  {
   "cell_type": "code",
   "execution_count": 4,
   "metadata": {},
   "outputs": [
    {
     "name": "stdout",
     "output_type": "stream",
     "text": [
      "1 path1 west\n",
      "2 path2 east\n",
      "No Match\n"
     ]
    }
   ],
   "source": [
    "dict_1 = {\n",
    "    \"id\": 1,\n",
    "    \"meta\": {\n",
    "        \"source\": \"path1\",\n",
    "        \"location\": \"west\",\n",
    "    }\n",
    "}\n",
    "\n",
    "dict_2 = {\n",
    "    \"id\": 2,\n",
    "    \"source\": \"path2\",\n",
    "    \"location\": \"east\",\n",
    "}\n",
    "\n",
    "for d in (dict_1, dict_2, \"other\"):\n",
    "    match d:\n",
    "        case {\n",
    "            \"id\": ident,\n",
    "            \"meta\": {\n",
    "                \"source\": source,\n",
    "                \"location\": loc,\n",
    "                }\n",
    "            }:\n",
    "            print(ident, source, loc)\n",
    "\n",
    "        case {\n",
    "            \"id\": ident,\n",
    "            \"source\": source,\n",
    "            \"location\": loc,\n",
    "            }:\n",
    "            print(ident, source, loc)\n",
    "\n",
    "        case _:\n",
    "            print(\"No Match\")"
   ]
  },
  {
   "cell_type": "markdown",
   "metadata": {},
   "source": [
    "## 2. Parenthesized context managers"
   ]
  },
  {
   "cell_type": "markdown",
   "metadata": {},
   "source": [
    "In Python 3.10, it is now possible to use multiple context managers in a single `with` statement without backslashes. The new syntax uses parentheses for a cleaner and more readable way."
   ]
  },
  {
   "cell_type": "code",
   "execution_count": 5,
   "metadata": {},
   "outputs": [],
   "source": [
    "# Old Version\n",
    "with open(\"file1.txt\", \"w\") as f_in,\\\n",
    "     open(\"file2.txt\", \"w\") as f_out:\n",
    "    pass\n"
   ]
  },
  {
   "cell_type": "code",
   "execution_count": 6,
   "metadata": {},
   "outputs": [],
   "source": [
    "# New Version\n",
    "with (\n",
    "    open(\"file1.txt\", \"w\") as f_in,\n",
    "    open(\"file2.txt\", \"w\") as f_out\n",
    "):\n",
    "    pass"
   ]
  },
  {
   "cell_type": "markdown",
   "metadata": {},
   "source": [
    "## 3. More precise types"
   ]
  },
  {
   "cell_type": "markdown",
   "metadata": {},
   "source": [
    "Python 3.10 introduced several improvements and new features to the `typing` module. Some of the key additions include:"
   ]
  },
  {
   "cell_type": "markdown",
   "metadata": {},
   "source": [
    "### 3.1 Allow writing union types as `X | Y`"
   ]
  },
  {
   "cell_type": "markdown",
   "metadata": {},
   "source": [
    "This PEP proposes overloading the `|` operator on types to allow writing `Union[X, Y]` as `X | Y`, and allows it to appear in `isinstance` and `issubclass` calls."
   ]
  },
  {
   "cell_type": "code",
   "execution_count": 7,
   "metadata": {},
   "outputs": [
    {
     "name": "stdout",
     "output_type": "stream",
     "text": [
      "6\n",
      "HI\n"
     ]
    }
   ],
   "source": [
    "# Old Version\n",
    "from typing import Union\n",
    "\n",
    "def foo(value: Union[int, str]) -> None:\n",
    "    if isinstance(value, int):\n",
    "        print(value + 1)\n",
    "    else:\n",
    "        print(value.upper())\n",
    "\n",
    "foo(5)\n",
    "foo(\"Hi\")"
   ]
  },
  {
   "cell_type": "code",
   "execution_count": 8,
   "metadata": {},
   "outputs": [
    {
     "name": "stdout",
     "output_type": "stream",
     "text": [
      "6\n",
      "HI\n"
     ]
    }
   ],
   "source": [
    "# New Version\n",
    "def foo(value: int | str) -> None:\n",
    "    if isinstance(value, int):\n",
    "        print(value + 1)\n",
    "    else:\n",
    "        print(value.upper())\n",
    "\n",
    "foo(5)\n",
    "foo(\"Hi\")"
   ]
  },
  {
   "cell_type": "markdown",
   "metadata": {},
   "source": [
    "### 3.2 Parameter Specification Variables:\n",
    "\n",
    "`typing.ParamSpec` improve the type hinting story in Python, especially for higher-order functions and decorators. It provides a way to accurately represent callable parameter signatures in type annotations, thus helping developers and tooling maintain type safety across function boundaries."
   ]
  },
  {
   "cell_type": "markdown",
   "metadata": {},
   "source": [
    "Suppose you're writing a decorator that wraps a function, without modifying its signature. Prior to PEP 612, you could use `typing.Callable` to specify that your parameter is a function, but you could not specify the signature of that function."
   ]
  },
  {
   "cell_type": "markdown",
   "metadata": {},
   "source": [
    "- Without `ParamSpec`"
   ]
  },
  {
   "cell_type": "code",
   "execution_count": 9,
   "metadata": {},
   "outputs": [],
   "source": [
    "from typing import Callable\n",
    "\n",
    "def my_decorator(f: Callable) -> Callable:\n",
    "    def wrapper(*args, **kwargs):\n",
    "        # Do something before\n",
    "        result = f(*args, **kwargs)\n",
    "        # Do something after\n",
    "        return result\n",
    "    return wrapper\n",
    "\n",
    "@my_decorator\n",
    "def greet(name: str) -> str:\n",
    "    return f\"Hello, {name}\"\n"
   ]
  },
  {
   "cell_type": "markdown",
   "metadata": {},
   "source": [
    "In this code, we're using `Callable`, but it doesn't retain information about the `greet` function's specific argument types and return type. The type checker doesn't know that `wrapper` and `greet` have the same signature."
   ]
  },
  {
   "cell_type": "markdown",
   "metadata": {},
   "source": [
    "- With `ParamSpec`"
   ]
  },
  {
   "cell_type": "code",
   "execution_count": 10,
   "metadata": {},
   "outputs": [],
   "source": [
    "from typing import Callable, TypeVar, ParamSpec\n",
    "\n",
    "P = ParamSpec('P')\n",
    "R = TypeVar('R')\n",
    "\n",
    "def my_decorator(f: Callable[P, R]) -> Callable[P, R]:\n",
    "    def wrapper(*args: P.args, **kwargs: P.kwargs) -> R:\n",
    "        # Do something before\n",
    "        result = f(*args, **kwargs)\n",
    "        # Do something after\n",
    "        return result\n",
    "    return wrapper\n",
    "\n",
    "@my_decorator\n",
    "def greet(name: str) -> str:\n",
    "    return f\"Hello, {name}\"\n"
   ]
  },
  {
   "cell_type": "markdown",
   "metadata": {},
   "source": [
    "Using `ParamSpec`, the type checker knows that the `wrapper` function takes the same parameters as the `greet` function. This makes type checking more accurate and useful for decorators or any higher-order function that wraps another callable.\n",
    "\n",
    "Here's the breakdown of the updated code:\n",
    "- `P = ParamSpec('P')` defines a new `ParamSpec` variable called `P`. It's used to represent the function's parameters.\n",
    "- `R = TypeVar('R')` defines a type variable for the return type.\n",
    "- In `my_decorator`, the type `Callable[P, R]` specifies that the decorator takes a callable whose parameters and return type are described by `P` and `R`, respectively.\n",
    "- The type of `wrapper` is marked with `*args: P.args` and `**kwargs: P.kwargs`, which means it should accept and pass through any arguments and keyword arguments acceptable by the function `f`.\n",
    "\n",
    "With the help of `ParamSpec`, type checkers can now understand that `my_decorator` preserves the signature of the function it decorates, and `wrapper` will be treated as if it has the exact same parameters as `greet`. This way, any type annotations and checks will be accurately carried forward."
   ]
  },
  {
   "cell_type": "markdown",
   "metadata": {},
   "source": [
    "### 3.3 Explicit Type Aliases"
   ]
  },
  {
   "cell_type": "markdown",
   "metadata": {},
   "source": [
    "PEP 613 introduces explicit type aliasing in Python via a new construct called `TypeAlias`. Before the introduction of PEP 613, type aliases in Python were defined using variable annotations, but there was no explicit way to indicate that a particular annotation was intended as a type alias. This could lead to confusion for both human readers and static type checkers."
   ]
  },
  {
   "cell_type": "markdown",
   "metadata": {},
   "source": [
    "- Without `TypeAlias`"
   ]
  },
  {
   "cell_type": "code",
   "execution_count": 11,
   "metadata": {},
   "outputs": [],
   "source": [
    "from typing import List, Union\n",
    "\n",
    "# Define type aliases using variable annotations.\n",
    "Vector = List[float]\n",
    "Result = Union[int, float]\n",
    "\n",
    "def scale(scalar: float, vector: Vector) -> Vector:\n",
    "    return [scalar * num for num in vector]\n",
    "\n",
    "def get_result(value: Result) -> Result:\n",
    "    return value * 2"
   ]
  },
  {
   "cell_type": "markdown",
   "metadata": {},
   "source": [
    "- With `TypeAlias`"
   ]
  },
  {
   "cell_type": "code",
   "execution_count": 12,
   "metadata": {},
   "outputs": [],
   "source": [
    "from typing import TypeAlias\n",
    "\n",
    "# Explicitly define type aliases.\n",
    "Vector: TypeAlias = list[float]\n",
    "Result: TypeAlias = int | float\n",
    "\n",
    "def scale(scalar: float, vector: Vector) -> Vector:\n",
    "    return [scalar * num for num in vector]\n",
    "\n",
    "def get_result(value: Result) -> Result:\n",
    "    return value * 2"
   ]
  },
  {
   "cell_type": "markdown",
   "metadata": {},
   "source": [
    "### 3.4 User-Defined Type Guards\n",
    "`TypeGuard` is a special kind of type hint that can be used to indicate to type checkers that a particular condition provides a guarantee about the type of a variable."
   ]
  },
  {
   "cell_type": "markdown",
   "metadata": {},
   "source": [
    "- without `TypeGuard`"
   ]
  },
  {
   "cell_type": "code",
   "execution_count": 13,
   "metadata": {},
   "outputs": [],
   "source": [
    "from typing import List, Union\n",
    "\n",
    "def is_all_integers(lst: List[Union[int, str]]) -> bool:\n",
    "    return all(isinstance(item, int) for item in lst)\n",
    "\n",
    "\n",
    "def process_items(items: List[Union[int, str]]):\n",
    "    if is_all_integers(items):\n",
    "        # Even though we have confirmed that `items` is a list of integers,\n",
    "        # static type checkers do not understand that, and treat `items` as a list\n",
    "        # of Union[int, str] inside this branch.\n",
    "        total = sum(items)  # This line will raise a type checking error\n",
    "        print(f\"The total is: {total}\")\n",
    "    else:\n",
    "        print(\"Not all items are integers.\")\n"
   ]
  },
  {
   "cell_type": "markdown",
   "metadata": {},
   "source": [
    "Static type checkers will not be able to infer that `items` is a list of integers in the `if` block after the `is_all_integers` call; hence, they will flag an error on the `sum(items)` since `sum` expects an iterable of numbers, not strings."
   ]
  },
  {
   "cell_type": "markdown",
   "metadata": {},
   "source": [
    "- with `TypeGuard`"
   ]
  },
  {
   "cell_type": "code",
   "execution_count": 14,
   "metadata": {},
   "outputs": [],
   "source": [
    "from typing import List, Union, TypeGuard\n",
    "\n",
    "def is_all_integers(lst: List[Union[int, str]]) -> TypeGuard[List[int]]:\n",
    "    return all(isinstance(item, int) for item in lst)\n",
    "\n",
    "def process_items(items: List[Union[int, str]]):\n",
    "    if is_all_integers(items):\n",
    "        # Now, static type checkers understand that if `is_all_integers(items)` is True,\n",
    "        # `items` is a list of integers inside this branch.\n",
    "        total = sum(items)  # The type of 'items' is inferred as List[int] by type checkers\n",
    "        print(f\"The total is: {total}\")\n",
    "    else:\n",
    "        print(\"Not all items are integers.\")\n"
   ]
  },
  {
   "cell_type": "markdown",
   "metadata": {},
   "source": [
    "With `TypeGuard`, you can now provide the guarantee to type checkers that `is_all_integers` narrows down the type of `lst` to `List[int]` if it returns `True`. As a result, static type checkers will understand the type-narrowing effect of the predicate function and will not raise an error on `sum(items)` in the `if` block. This allows for stronger type hinting and helps eliminate false-positive type errors in statically checked code."
   ]
  },
  {
   "cell_type": "markdown",
   "metadata": {},
   "source": [
    "## 4. Deprecations"
   ]
  },
  {
   "cell_type": "markdown",
   "metadata": {},
   "source": [
    "Python 3.10 has started to deprecate old features like `typing.io` and `typing.re`, which will be removed in future versions. Instead, you should use the `io` and `re` modules respectively."
   ]
  }
 ],
 "metadata": {
  "kernelspec": {
   "display_name": "py39",
   "language": "python",
   "name": "python3"
  },
  "language_info": {
   "codemirror_mode": {
    "name": "ipython",
    "version": 3
   },
   "file_extension": ".py",
   "mimetype": "text/x-python",
   "name": "python",
   "nbconvert_exporter": "python",
   "pygments_lexer": "ipython3",
   "version": "3.10.13"
  }
 },
 "nbformat": 4,
 "nbformat_minor": 2
}

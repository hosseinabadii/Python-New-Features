{
 "cells": [
  {
   "cell_type": "markdown",
   "metadata": {},
   "source": [
    "# What’s New In Python 3.12"
   ]
  },
  {
   "cell_type": "markdown",
   "metadata": {},
   "source": [
    "---"
   ]
  },
  {
   "cell_type": "markdown",
   "metadata": {},
   "source": [
    "## New syntax features:\n",
    "- **PEP 695, type parameter syntax and the type statement:**\n",
    "  This enhancement proposal introduces a new way to specify type parameters directly in the Python syntax, as well as a `type` statement to create type aliases. This aims to make type annotations more concise and easier to read, and it would be especially helpful for generic types where type parameters are required.\n",
    "\n",
    "\n",
    "## New grammar features:\n",
    "- **PEP 701, f-strings in the grammar:**\n",
    "  This proposal actually includes f-strings directly into Python's grammar, as opposed to the current implementation where they are handled more like a special case. This change would make f-strings a first-class citizen in Python's syntax, potentially making parsing and handling f-strings more efficient or even allowing for future expansions of their functionality.\n",
    "\n",
    "## New typing features:\n",
    "- **PEP 692, using TypedDict to annotate `**kwargs`:**\n",
    "  This enhancement allows you to use the `TypedDict` type to specify the types of keyword arguments (**kwargs) accepted by a function. It is a way to provide type hints for functions that accept a variable number of keyword arguments.\n",
    "\n",
    "- **PEP 698, typing.override() decorator:**\n",
    "  This proposal adds a new decorator `typing.override()`, which can be used to indicate that a method overrides a method from the superclass in a more explicit way. This is helpful for type checkers and can make code more readable.\n",
    "\n",
    "\n",
    "## Interpreter improvements:\n",
    "- **PEP 684, a unique per-interpreter GIL:**\n",
    "  The Global Interpreter Lock (GIL) is a mutex that protects access to Python objects, preventing multiple threads from executing Python bytecodes at once. In Python 3.12, each sub-interpreter will have its own GIL, which can improve parallelism when using sub-interpreters, since they will not block each other as much as when sharing a single GIL.\n",
    "\n",
    "- **PEP 669, low impact monitoring:**\n",
    "  This proposal is about reducing the performance impact of monitoring tools on Python applications. Once implemented, it will allow for profiling and tracing tools to have a lower impact on the execution speed of Python programs.\n",
    "\n",
    "- **Improved ‘Did you mean …’ suggestions for NameError, ImportError, and SyntaxError exceptions:**\n",
    "  Error messages in Python 3.12 will provide better suggestions when you encounter NameErrors, ImportErrors, or SyntaxErrors, by guessing what you might have meant. This can be very helpful for debugging and fixing typos or small mistakes quickly.\n",
    "\n",
    "\n",
    "## Significant improvements in the standard library:\n",
    "- **`pathlib.Path` class now supports subclassing:**\n",
    "  This change makes it easier to extend the `pathlib.Path` class to create custom path-related functionality.\n",
    "\n",
    "- **The `os` module received several improvements for Windows support:**\n",
    "  Enhancements to the `os` module's capabilities on Windows will make it more robust and feature-complete when working with the Windows operating system.\n",
    "\n",
    "- **A command-line interface has been added to the `sqlite3` module:**\n",
    "  Similar to the command-line tools available for SQLite outside of Python, this new feature allows for database manipulation directly from the Python command line using the `sqlite3` module.\n",
    "\n",
    "- **`isinstance()` checks against runtime-checkable protocols enjoy a speed up of between two and 20 times:**\n",
    "  Performance optimization for `isinstance()` function calls means that checking if an object conforms to a type specified by a protocol can be significantly faster.\n",
    "\n",
    "- **The `asyncio` package has had a number of performance improvements:**\n",
    "  Speed improvements in asyncio can lead to better performance for asynchronous I/O operations. Some benchmarks may show up to a 75% speed increase.\n",
    "\n",
    "- **A command-line interface has been added to the `uuid` module:**\n",
    "  This feature allows the generation of UUIDs (Universally Unique Identifiers) from the command line using the `uuid` module.\n",
    "\n",
    "- **Due to the changes in PEP 701, producing tokens via the `tokenize` module is up to 64% faster:**\n",
    "  By integrating f-strings into the grammar, not only is their handling potentially more efficient, but this can also translate into performance improvements for the `tokenize` module, which is used for breaking Python code into tokens for parsing.\n"
   ]
  }
 ],
 "metadata": {
  "kernelspec": {
   "display_name": "py39",
   "language": "python",
   "name": "python3"
  },
  "language_info": {
   "codemirror_mode": {
    "name": "ipython",
    "version": 3
   },
   "file_extension": ".py",
   "mimetype": "text/x-python",
   "name": "python",
   "nbconvert_exporter": "python",
   "pygments_lexer": "ipython3",
   "version": "3.11.5"
  }
 },
 "nbformat": 4,
 "nbformat_minor": 2
}
